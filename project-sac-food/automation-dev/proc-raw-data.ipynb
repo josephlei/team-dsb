{
 "cells": [
  {
   "cell_type": "markdown",
   "metadata": {},
   "source": [
    "Outstanding issues:\n",
    "* remove inspection \"NA\" rows"
   ]
  },
  {
   "cell_type": "code",
   "execution_count": null,
   "metadata": {
    "collapsed": false
   },
   "outputs": [],
   "source": [
    "import csv\n",
    "import re\n",
    "import pandas as pd\n",
    "import numpy as np\n",
    "pd.__version__"
   ]
  },
  {
   "cell_type": "code",
   "execution_count": null,
   "metadata": {
    "collapsed": false
   },
   "outputs": [],
   "source": [
    "raw=pd.read_csv('raw_data.csv')\n",
    "raw #peek"
   ]
  },
  {
   "cell_type": "code",
   "execution_count": null,
   "metadata": {
    "collapsed": false
   },
   "outputs": [],
   "source": [
    "biz=raw.drop(['Report ID','Inspection Type','Last Inspection Date','Data Last Updated','Result'],1) #drop un-needed cols\n",
    "biz.Coordinates.replace(\" \",\"\", regex=True, inplace=True) #drop all non-numbers from phone\n",
    "coords=biz.Coordinates.str.split(',', expand=True) #pull off coords\n",
    "biz=pd.concat([biz, coords], axis=1) #add back coords\n",
    "biz.rename(columns={'Facility ID':'business_id','Facility Name':'name','Address':'address','City':'city',\n",
    "                    'Zip':'postal_code','Phone':'phone_number',0:'latitude', 1:'longitude'},inplace=True)\n",
    "#rename to match specs\n",
    "biz.insert(4,'state','CA') #add col for state\n",
    "biz=biz.drop(['Coordinates'],1) #drop original coordinates"
   ]
  },
  {
   "cell_type": "code",
   "execution_count": null,
   "metadata": {
    "collapsed": false
   },
   "outputs": [],
   "source": [
    "print type(biz.phone_number[0]) #peek, these are strings"
   ]
  },
  {
   "cell_type": "code",
   "execution_count": null,
   "metadata": {
    "collapsed": false
   },
   "outputs": [],
   "source": [
    "biz.phone_number.replace(\"\\D\",\"\", regex=True, inplace=True) #drop all non-numbers from phone"
   ]
  },
  {
   "cell_type": "code",
   "execution_count": null,
   "metadata": {
    "collapsed": false,
    "scrolled": true
   },
   "outputs": [],
   "source": [
    "biz['phone_number'] = \"+1\" + biz['phone_number'] #add country prefix to all phone numbers"
   ]
  },
  {
   "cell_type": "code",
   "execution_count": null,
   "metadata": {
    "collapsed": false
   },
   "outputs": [],
   "source": [
    "biz"
   ]
  },
  {
   "cell_type": "code",
   "execution_count": null,
   "metadata": {
    "collapsed": false
   },
   "outputs": [],
   "source": [
    "print \"n before dedup:\", len(biz.index)\n",
    "biz.drop_duplicates(subset='business_id', inplace=True)\n",
    "print \"n after dedup:\", len(biz.index)"
   ]
  },
  {
   "cell_type": "code",
   "execution_count": null,
   "metadata": {
    "collapsed": false
   },
   "outputs": [],
   "source": [
    "#biz['lat'], biz['long'] = zip(*biz['Coordinates'].str.split().tolist())\n",
    "\n",
    "#df[\"flips\"], df[\"row_name\"] = zip(*df[\"row\"].str.split().tolist())\n",
    "#del df[\"row\"]  "
   ]
  },
  {
   "cell_type": "code",
   "execution_count": null,
   "metadata": {
    "collapsed": false,
    "scrolled": true
   },
   "outputs": [],
   "source": [
    "#pd.DataFrame(biz.Coordinates.str.split(',').tolist(), columns=['lat','long'])\n",
    "#pd.DataFrame(df.row.str.split(' ',1).tolist(), columns = ['flips','row'])"
   ]
  },
  {
   "cell_type": "code",
   "execution_count": null,
   "metadata": {
    "collapsed": false
   },
   "outputs": [],
   "source": [
    "biz"
   ]
  },
  {
   "cell_type": "code",
   "execution_count": null,
   "metadata": {
    "collapsed": true
   },
   "outputs": [],
   "source": [
    "biz.to_csv('businesses.csv', index=False)"
   ]
  },
  {
   "cell_type": "code",
   "execution_count": null,
   "metadata": {
    "collapsed": false
   },
   "outputs": [],
   "source": [
    "#df1['Coordinates'].str.split(',')\n",
    "#type(df1['Coordinates'].str.split(',')) #iam series"
   ]
  },
  {
   "cell_type": "code",
   "execution_count": null,
   "metadata": {
    "collapsed": false
   },
   "outputs": [],
   "source": [
    "insp=raw.drop(['Facility Name', 'Address','City', 'Zip', 'Phone', 'Report ID', 'Coordinates','Data Last Updated'],1)\n",
    "insp.rename(columns={'Facility ID':'business_id','Result':'result', 'Last Inspection Date':'date', 'Inspection Type': 'type'},inplace=True)\n",
    "insp=insp[['business_id','date','result','type']] #cheater re-order"
   ]
  },
  {
   "cell_type": "code",
   "execution_count": null,
   "metadata": {
    "collapsed": false,
    "scrolled": true
   },
   "outputs": [],
   "source": [
    "insp #peek at results"
   ]
  },
  {
   "cell_type": "code",
   "execution_count": null,
   "metadata": {
    "collapsed": false
   },
   "outputs": [],
   "source": [
    "print insp.result.unique() #peek\n",
    "print insp.type.unique() #peek"
   ]
  },
  {
   "cell_type": "code",
   "execution_count": null,
   "metadata": {
    "collapsed": false,
    "scrolled": true
   },
   "outputs": [],
   "source": [
    "insp.result.replace(['GN','YW','RD'],['Pass','Cond','Fail'], inplace='yes')\n",
    "insp.type.replace(['ROUTINE INSPECTION', 'REINSPECTION','ADMINISTRATIVE HEARING CLOSURE', 'B- FOLLOW-UP', 'N- NOT APPLICABLE','INITIAL/PERMIT INSPECTION'],\n",
    "                  ['routine'           , 'followup'    ,'followup'                      , 'followup'    , 'NA'               ,'routine'],inplace='yes')\n",
    "\n",
    "#need to find a way to delete na, insignificant"
   ]
  },
  {
   "cell_type": "code",
   "execution_count": null,
   "metadata": {
    "collapsed": false
   },
   "outputs": [],
   "source": [
    "print insp.result.unique() #peek\n",
    "print insp.type.unique() #peek"
   ]
  },
  {
   "cell_type": "code",
   "execution_count": null,
   "metadata": {
    "collapsed": false,
    "scrolled": true
   },
   "outputs": [],
   "source": [
    "insp.date=pd.to_datetime(insp.date) #convert column to datetime dtype\n",
    "insp.date=insp.date.map(lambda x: x.strftime('%Y%m%d')) #change to YYYYMMDD format per YELP LIVES spec"
   ]
  },
  {
   "cell_type": "code",
   "execution_count": null,
   "metadata": {
    "collapsed": false,
    "scrolled": true
   },
   "outputs": [],
   "source": [
    "insp"
   ]
  },
  {
   "cell_type": "code",
   "execution_count": null,
   "metadata": {
    "collapsed": true
   },
   "outputs": [],
   "source": [
    "insp.to_csv('inspections.csv', index=False)"
   ]
  },
  {
   "cell_type": "markdown",
   "metadata": {},
   "source": [
    "#####START OF feed_info.csv section!"
   ]
  },
  {
   "cell_type": "code",
   "execution_count": null,
   "metadata": {
    "collapsed": false,
    "scrolled": true
   },
   "outputs": [],
   "source": [
    "feed=raw[[11]].drop_duplicates() #take only feed date, unique (always all the same)"
   ]
  },
  {
   "cell_type": "code",
   "execution_count": null,
   "metadata": {
    "collapsed": false,
    "scrolled": false
   },
   "outputs": [],
   "source": [
    "feed.rename(columns={'Data Last Updated': 'feed_date'},inplace=True)"
   ]
  },
  {
   "cell_type": "code",
   "execution_count": null,
   "metadata": {
    "collapsed": false
   },
   "outputs": [],
   "source": [
    "feed.insert(1,'feed_version','2.0')\n",
    "feed.insert(2,'municipality_name','Sacramento County')\n",
    "feed.insert(3,'municipality_url','https://emdinspections.saccounty.net/food.aspx')\n",
    "feed.insert(4,'contact_email','EMDinfo@Saccounty.net')"
   ]
  },
  {
   "cell_type": "code",
   "execution_count": null,
   "metadata": {
    "collapsed": true
   },
   "outputs": [],
   "source": [
    "feed.feed_date=pd.to_datetime(feed.feed_date) #convert column to datetime dtype"
   ]
  },
  {
   "cell_type": "code",
   "execution_count": null,
   "metadata": {
    "collapsed": false
   },
   "outputs": [],
   "source": [
    "#df2.date=df2.date.map(lambda x: x.strftime('%Y%m%d'))\n",
    "feed.feed_date=feed.feed_date.map(lambda x: x.strftime('%Y%m%d')) #change to YYYYMMDD format per YELP LIVES spec"
   ]
  },
  {
   "cell_type": "code",
   "execution_count": null,
   "metadata": {
    "collapsed": false,
    "scrolled": true
   },
   "outputs": [],
   "source": [
    "feed #look at it before exporting"
   ]
  },
  {
   "cell_type": "code",
   "execution_count": null,
   "metadata": {
    "collapsed": true
   },
   "outputs": [],
   "source": [
    "feed.to_csv('feed_info.csv', index=False) #export it"
   ]
  },
  {
   "cell_type": "code",
   "execution_count": null,
   "metadata": {
    "collapsed": false
   },
   "outputs": [],
   "source": [
    "wget=raw.drop(['Facility Name', 'Address','City', 'Zip', 'Result', 'Phone', 'Coordinates','Data Last Updated', 'Inspection Type'],1)\n",
    "wget.rename(columns={'Facility ID':'id', 'Report ID':'report_id', 'Last Inspection Date':'date'},inplace=True)\n",
    "wget.to_csv('wget.csv', index=True)"
   ]
  }
 ],
 "metadata": {
  "kernelspec": {
   "display_name": "Python 2",
   "language": "python",
   "name": "python2"
  },
  "language_info": {
   "codemirror_mode": {
    "name": "ipython",
    "version": 2
   },
   "file_extension": ".py",
   "mimetype": "text/x-python",
   "name": "python",
   "nbconvert_exporter": "python",
   "pygments_lexer": "ipython2",
   "version": "2.7.11"
  }
 },
 "nbformat": 4,
 "nbformat_minor": 0
}
