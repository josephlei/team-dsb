{
 "cells": [
  {
   "cell_type": "code",
   "execution_count": 77,
   "metadata": {
    "collapsed": true
   },
   "outputs": [],
   "source": [
    "import requests\n",
    "from requests.auth import HTTPBasicAuth"
   ]
  },
  {
   "cell_type": "code",
   "execution_count": 78,
   "metadata": {
    "collapsed": false
   },
   "outputs": [],
   "source": [
    "r=requests.get('https://api.slicktext.com/v1/textwords', auth=('pub_81c1afd5188f64058be232c3689f2d27', '8b2cbf4cea39377a1e6943c248b695d25c2a7d1b'), \n",
    "               params={'limit':50})"
   ]
  },
  {
   "cell_type": "code",
   "execution_count": 79,
   "metadata": {
    "collapsed": false
   },
   "outputs": [
    {
     "data": {
      "text/plain": [
       "<Response [200]>"
      ]
     },
     "execution_count": 79,
     "metadata": {},
     "output_type": "execute_result"
    }
   ],
   "source": [
    "r"
   ]
  },
  {
   "cell_type": "code",
   "execution_count": 80,
   "metadata": {
    "collapsed": false,
    "scrolled": true
   },
   "outputs": [
    {
     "name": "stdout",
     "output_type": "stream",
     "text": [
      "{\"meta\":{\"limit\":50,\"offset\":0,\"total\":2,\"self\":\"http:\\/\\/api.slicktext.com\\/v1\\/v1\\/textwords?limit=50limit=50\"},\"links\":{\"self\":\"http:\\/\\/api.slicktext.com\\/v1\\/textwords\\/limit=50\"},\"textwords\":[{\"id\":\"367559\",\"word\":\"flu done\",\"autoReply\":\"Thank you for getting your flu shot(s)! We look forward to serving you next year!\",\"added\":\"2016-03-16 17:32:22\",\"optOuts\":\"0\",\"ageRequirement\":\"0\",\"contacts_count\":\"1\"},{\"id\":\"367561\",\"word\":\"flu shot\",\"autoReply\":\"CONFIRMED for Sac County FREE Flu Shot Info: clinic location, times and map directions will be sent to you.\",\"added\":\"2016-03-16 17:39:18\",\"optOuts\":\"0\",\"ageRequirement\":\"0\",\"contacts_count\":\"1\"}]}\n"
     ]
    }
   ],
   "source": [
    "print r.text"
   ]
  },
  {
   "cell_type": "code",
   "execution_count": 81,
   "metadata": {
    "collapsed": true
   },
   "outputs": [],
   "source": [
    "r=requests.get('https://api.slicktext.com/v1/contacts', auth=('pub_81c1afd5188f64058be232c3689f2d27', '8b2cbf4cea39377a1e6943c248b695d25c2a7d1b'), \n",
    "               params={'limit':50})"
   ]
  },
  {
   "cell_type": "code",
   "execution_count": 82,
   "metadata": {
    "collapsed": false
   },
   "outputs": [
    {
     "data": {
      "text/plain": [
       "<Response [200]>"
      ]
     },
     "execution_count": 82,
     "metadata": {},
     "output_type": "execute_result"
    }
   ],
   "source": [
    "r"
   ]
  },
  {
   "cell_type": "code",
   "execution_count": 83,
   "metadata": {
    "collapsed": false
   },
   "outputs": [
    {
     "name": "stdout",
     "output_type": "stream",
     "text": [
      "{\"meta\":{\"limit\":50,\"offset\":0,\"total\":2},\"links\":{\"self\":\"http:\\/\\/api.slicktext.com\\/v1\\/contacts\\/limit=50\"},\"contacts\":[{\"id\":\"2950971\",\"number\":\"+19098968997\",\"city\":\"POMONA\",\"state\":\"CA\",\"zipCode\":\"91767\",\"country\":\"US\",\"textword\":\"367559\",\"subscribedDate\":\"2016-03-17 11:46:17\",\"firstName\":null,\"lastName\":null,\"birthDate\":null,\"email\":null},{\"id\":\"2950944\",\"number\":\"+19098968997\",\"city\":\"POMONA\",\"state\":\"CA\",\"zipCode\":\"91767\",\"country\":\"US\",\"textword\":\"367561\",\"subscribedDate\":\"2016-03-17 11:30:08\",\"firstName\":null,\"lastName\":null,\"birthDate\":null,\"email\":null}]}\n"
     ]
    }
   ],
   "source": [
    "print r.text"
   ]
  },
  {
   "cell_type": "code",
   "execution_count": null,
   "metadata": {
    "collapsed": true
   },
   "outputs": [],
   "source": []
  }
 ],
 "metadata": {
  "kernelspec": {
   "display_name": "Python 2",
   "language": "python",
   "name": "python2"
  },
  "language_info": {
   "codemirror_mode": {
    "name": "ipython",
    "version": 2
   },
   "file_extension": ".py",
   "mimetype": "text/x-python",
   "name": "python",
   "nbconvert_exporter": "python",
   "pygments_lexer": "ipython2",
   "version": "2.7.11"
  }
 },
 "nbformat": 4,
 "nbformat_minor": 0
}
